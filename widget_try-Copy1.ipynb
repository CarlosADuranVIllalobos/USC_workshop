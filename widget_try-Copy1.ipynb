{
 "cells": [
  {
   "cell_type": "markdown",
   "id": "47f02bff",
   "metadata": {
    "id": "47f02bff"
   },
   "source": [
    "# Second Activity: Hands-on demonstration\n",
    "\n",
    "A group task where the attendees will provide a suitable feeding strategy for a T-cell growth simulation.\n",
    "\n",
    "**Instructions**:\n",
    "\n",
    "1. Gather in groups and make sure you are inside the browser explorer in Jupyter notebook. With the file workshop.ipynb open.   \n",
    "2. In the menu at the top click \"Run All\" in the \"Cell\" Tab.  \n",
    "3. You do not need to write anything in the code section.\n",
    "4. Move the glucose feed sliders to , you will have to take into account a few instructions:\n",
    "\n",
    "    - Do not let the cells die by lowering the glucose feed too much.\n",
    "    - Use the least amount of glucose feed.\n",
    "    - Make sure that your cells during the desired harvest point are still in the exponential phase, this mean that the cells are still growing.\n"
   ]
  },
  {
   "cell_type": "markdown",
   "id": "395cfd21-1f6f-4487-bba0-42da2751652a",
   "metadata": {
    "id": "395cfd21-1f6f-4487-bba0-42da2751652a"
   },
   "source": [
    "## Scenario 1: Ideal case study\n",
    "\n",
    "This scenario involves the growth of CAR-T cells after CAR transduction in a bioreactor. It is an ideal case where we have full information about the Vible T-cells growth and how the glucose feed can affect it.\n",
    "\n",
    "**Objective**: Make adjustments in the Glucose feed to bring the viable T-cells graph closer to the exponential phase at the desired harvest point."
   ]
  },
  {
   "cell_type": "code",
   "execution_count": 1,
   "id": "e89381e3",
   "metadata": {
    "colab": {
     "base_uri": "https://localhost:8080/",
     "height": 1000
    },
    "executionInfo": {
     "elapsed": 35224,
     "status": "error",
     "timestamp": 1697554321253,
     "user": {
      "displayName": "Carlos Alberto Duran Villalobos",
      "userId": "05183836830991319277"
     },
     "user_tz": -60
    },
    "id": "e89381e3",
    "outputId": "67280994-a504-48e9-abd8-6d51f767a17f"
   },
   "outputs": [
    {
     "data": {
      "application/vnd.jupyter.widget-view+json": {
       "model_id": "fbf70e9163e84f0991080a29d2d860b2",
       "version_major": 2,
       "version_minor": 0
      },
      "text/plain": [
       "Box(children=(HTML(value='<h4>Glucose Feed:</h4>'), GridspecLayout(children=(FloatSlider(value=0.5, descriptio…"
      ]
     },
     "metadata": {},
     "output_type": "display_data"
    },
    {
     "data": {
      "application/vnd.jupyter.widget-view+json": {
       "model_id": "bd8811b5ec91492aae014c472615e075",
       "version_major": 2,
       "version_minor": 0
      },
      "text/plain": [
       "Output()"
      ]
     },
     "metadata": {},
     "output_type": "display_data"
    }
   ],
   "source": [
    "import sys\n",
    "try:\n",
    "    import numpy\n",
    "except ModuleNotFoundError:\n",
    "    print(\"numpy not found\")\n",
    "    !conda install --yes --prefix {sys.prefix} numpy \n",
    "try:\n",
    "    import sklearn\n",
    "except ModuleNotFoundError:\n",
    "    print(\"sklearn not found\")\n",
    "    !conda install --yes --prefix {sys.prefix} scikit-learn\n",
    "try:\n",
    "    import scipy\n",
    "except ModuleNotFoundError:\n",
    "    print(\"scipy not found\")\n",
    "    !conda install --yes --prefix {sys.prefix} scipy \n",
    "try:\n",
    "    import seaborn\n",
    "except ModuleNotFoundError:\n",
    "    print(\"sb not found\")\n",
    "    !conda install --yes --prefix {sys.prefix} seaborn\n",
    "try:\n",
    "    import ipywidgets\n",
    "except ModuleNotFoundError:\n",
    "    print(\"ipywidgets not found\")\n",
    "    !conda install --yes --prefix {sys.prefix} ipywidgets \n",
    "try:\n",
    "    import matplotlib\n",
    "except ModuleNotFoundError:\n",
    "    print(\"plt not found\")\n",
    "    !conda install --yes --prefix {sys.prefix}a matplotlib \n",
    "try:\n",
    "    import widgetsnbextension\n",
    "except ModuleNotFoundError:\n",
    "    print(\"nb not found\")\n",
    "    !conda install --yes --prefix {sys.prefix} widgetsnbextension \n",
    "\n",
    "\n",
    "from gui_interface import sim_ideal\n",
    "var = [95, 0, 0, -30] # variability: [viability , inhibitor conc., growth rate, start of the exhaustion] [%]\n",
    "sim_ideal(var)"
   ]
  },
  {
   "cell_type": "markdown",
   "id": "1d3e882d-bd95-4feb-a0f7-bd983d17aede",
   "metadata": {
    "id": "1d3e882d-bd95-4feb-a0f7-bd983d17aede"
   },
   "source": [
    "## Scenario 2: Realistic case study\n",
    "\n",
    "This scenario is similar to the previous one with the difference that we only have information from an end-point prediction of viable T-cells.\n",
    "\n",
    "**Objective**: Make adjustments in the Glucose feed to bring the viable T-cells end-point closer to the desired harvest point."
   ]
  },
  {
   "cell_type": "code",
   "execution_count": 2,
   "id": "83fb208d-c981-465d-97f7-12be38ce3144",
   "metadata": {
    "colab": {
     "referenced_widgets": [
      "e4f343a75d5443fcb937f0c4a3e2dc56",
      "5348cd69ff9d4f67a0499d60c63d7fed"
     ]
    },
    "id": "83fb208d-c981-465d-97f7-12be38ce3144",
    "outputId": "35da1a54-a60e-4050-b156-bf2f5bf1ec9d"
   },
   "outputs": [
    {
     "data": {
      "application/vnd.jupyter.widget-view+json": {
       "model_id": "638433db9fab4ec8af3d997a14b96136",
       "version_major": 2,
       "version_minor": 0
      },
      "text/plain": [
       "Box(children=(HTML(value='<h4>Glucose Feed:</h4>'), GridspecLayout(children=(FloatSlider(value=0.5, descriptio…"
      ]
     },
     "metadata": {},
     "output_type": "display_data"
    },
    {
     "data": {
      "application/vnd.jupyter.widget-view+json": {
       "model_id": "c2bc907131194967b9f0fcfc3c1bbb26",
       "version_major": 2,
       "version_minor": 0
      },
      "text/plain": [
       "Output()"
      ]
     },
     "metadata": {},
     "output_type": "display_data"
    }
   ],
   "source": [
    "from gui_interface import sim_real\n",
    "var = [98, -100, 0, 0] # variability: [viability , inhibitor conc., growth rate, start of the exhaustion] [%]\n",
    "sim_real(var)"
   ]
  },
  {
   "cell_type": "markdown",
   "id": "f5e0474b-44cd-4870-aca7-d05ce8542ee1",
   "metadata": {
    "id": "f5e0474b-44cd-4870-aca7-d05ce8542ee1"
   },
   "source": [
    "## Importance of Soft sensors and Model Predictive Control\n",
    "\n",
    "Soft sensors are indispensable tools in the field of cell and gene therapy, enabling real-time monitoring, process optimization, quality control, and regulatory compliance. \n",
    "\n",
    "Model Predictive Control offers a dynamic and adaptable approach to process control, ensuring high product quality, and the ability to handle the complexity and uncertainties inherent in these advanced bioprocesses.\n",
    "\n",
    "They both contribute to the overall success of these therapies by ensuring consistent and high-quality production, which is essential for patient safety and therapeutic effectiveness.\n",
    "\n",
    "\n",
    "<table><tr>\n",
    "<td>\n",
    "  <p align=\"center\" style=\"padding: 10px\">\n",
    "    <img alt=\"MPC\" src=\"images/MPC.jpg\" width=\"400px\">\n",
    "    <br>\n",
    "    <em style=\"color: grey\">Variability reduction using MPC</em>\n",
    "  </p>\n",
    "</td>\n",
    "<td>\n",
    "  <p align=\"center\">\n",
    "    <img alt=\"Soft\" src=\"images/soft_sensor.jpg\" width=\"400px\">\n",
    "    <br>\n",
    "    <em style=\"color: grey\">Soft sensor predictions</em>\n",
    "  </p>\n",
    "</td>\n",
    "</tr></table>\n",
    "\n",
    "Links:\n",
    "\n"
   ]
  }
 ],
 "metadata": {
  "celltoolbar": "Edit Metadata",
  "colab": {
   "provenance": []
  },
  "kernelspec": {
   "display_name": "Python 3 (ipykernel)",
   "language": "python",
   "name": "python3"
  },
  "language_info": {
   "codemirror_mode": {
    "name": "ipython",
    "version": 3
   },
   "file_extension": ".py",
   "mimetype": "text/x-python",
   "name": "python",
   "nbconvert_exporter": "python",
   "pygments_lexer": "ipython3",
   "version": "3.8.18"
  },
  "varInspector": {
   "cols": {
    "lenName": 16,
    "lenType": 16,
    "lenVar": 40
   },
   "kernels_config": {
    "python": {
     "delete_cmd_postfix": "",
     "delete_cmd_prefix": "del ",
     "library": "var_list.py",
     "varRefreshCmd": "print(var_dic_list())"
    },
    "r": {
     "delete_cmd_postfix": ") ",
     "delete_cmd_prefix": "rm(",
     "library": "var_list.r",
     "varRefreshCmd": "cat(var_dic_list()) "
    }
   },
   "types_to_exclude": [
    "module",
    "function",
    "builtin_function_or_method",
    "instance",
    "_Feature"
   ],
   "window_display": false
  }
 },
 "nbformat": 4,
 "nbformat_minor": 5
}
